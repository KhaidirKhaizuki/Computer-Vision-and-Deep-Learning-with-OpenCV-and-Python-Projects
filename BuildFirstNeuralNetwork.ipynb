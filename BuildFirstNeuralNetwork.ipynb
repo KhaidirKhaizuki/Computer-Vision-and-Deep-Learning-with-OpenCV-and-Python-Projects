{
  "nbformat": 4,
  "nbformat_minor": 0,
  "metadata": {
    "colab": {
      "name": "BuildFirstNeuralNetwork",
      "provenance": []
    },
    "kernelspec": {
      "name": "python3",
      "display_name": "Python 3"
    },
    "language_info": {
      "name": "python"
    }
  },
  "cells": [
    {
      "cell_type": "code",
      "execution_count": 4,
      "metadata": {
        "id": "AFTSn0Yenbi8"
      },
      "outputs": [],
      "source": [
        "import cv2\n",
        "\n",
        "from sklearn.datasets import make_blobs\n",
        "\n",
        "X_data, y_data = make_blobs(n_samples =100, centers = 2, cluster_std = 5.1, random_state = 30)"
      ]
    },
    {
      "cell_type": "code",
      "source": [
        "y_data"
      ],
      "metadata": {
        "colab": {
          "base_uri": "https://localhost:8080/"
        },
        "id": "grIdaKjyop_z",
        "outputId": "f424f102-148a-41af-8157-b9c004cb505c"
      },
      "execution_count": 6,
      "outputs": [
        {
          "output_type": "execute_result",
          "data": {
            "text/plain": [
              "array([1, 0, 1, 1, 1, 0, 1, 0, 1, 1, 1, 0, 0, 1, 0, 0, 1, 0, 1, 1, 0, 1,\n",
              "       0, 1, 0, 0, 1, 1, 0, 0, 0, 1, 0, 1, 1, 1, 0, 1, 1, 0, 0, 0, 1, 1,\n",
              "       0, 1, 0, 0, 1, 1, 0, 0, 1, 0, 1, 1, 0, 0, 1, 1, 1, 0, 0, 0, 0, 1,\n",
              "       0, 0, 0, 1, 1, 0, 0, 1, 1, 0, 0, 1, 1, 1, 0, 0, 0, 1, 1, 1, 0, 0,\n",
              "       0, 0, 1, 0, 1, 1, 1, 0, 1, 0, 1, 0])"
            ]
          },
          "metadata": {},
          "execution_count": 6
        }
      ]
    },
    {
      "cell_type": "code",
      "source": [
        "import numpy \n",
        "\n",
        "X = X_data.astype(numpy.float32)"
      ],
      "metadata": {
        "id": "kuwCVJqSoELs"
      },
      "execution_count": 8,
      "outputs": []
    },
    {
      "cell_type": "code",
      "source": [
        "from sklearn.preprocessing import OneHotEncoder\n",
        "\n",
        "encoder = OneHotEncoder(sparse = False, dtype = numpy.float32)\n",
        "\n",
        "encoder"
      ],
      "metadata": {
        "colab": {
          "base_uri": "https://localhost:8080/"
        },
        "id": "b3P_G-E8pJwM",
        "outputId": "3a3d8c29-1eb4-48d7-f8e2-80b3560bbf3a"
      },
      "execution_count": 9,
      "outputs": [
        {
          "output_type": "execute_result",
          "data": {
            "text/plain": [
              "OneHotEncoder(dtype=<class 'numpy.float32'>, sparse=False)"
            ]
          },
          "metadata": {},
          "execution_count": 9
        }
      ]
    },
    {
      "cell_type": "code",
      "source": [
        "y = encoder.fit_transform(y_data.reshape(-1,1))\n",
        "y"
      ],
      "metadata": {
        "colab": {
          "base_uri": "https://localhost:8080/"
        },
        "id": "A0y3p3ABpeqb",
        "outputId": "993c1910-b301-4742-8bf2-82069156bd7d"
      },
      "execution_count": 10,
      "outputs": [
        {
          "output_type": "execute_result",
          "data": {
            "text/plain": [
              "array([[0., 1.],\n",
              "       [1., 0.],\n",
              "       [0., 1.],\n",
              "       [0., 1.],\n",
              "       [0., 1.],\n",
              "       [1., 0.],\n",
              "       [0., 1.],\n",
              "       [1., 0.],\n",
              "       [0., 1.],\n",
              "       [0., 1.],\n",
              "       [0., 1.],\n",
              "       [1., 0.],\n",
              "       [1., 0.],\n",
              "       [0., 1.],\n",
              "       [1., 0.],\n",
              "       [1., 0.],\n",
              "       [0., 1.],\n",
              "       [1., 0.],\n",
              "       [0., 1.],\n",
              "       [0., 1.],\n",
              "       [1., 0.],\n",
              "       [0., 1.],\n",
              "       [1., 0.],\n",
              "       [0., 1.],\n",
              "       [1., 0.],\n",
              "       [1., 0.],\n",
              "       [0., 1.],\n",
              "       [0., 1.],\n",
              "       [1., 0.],\n",
              "       [1., 0.],\n",
              "       [1., 0.],\n",
              "       [0., 1.],\n",
              "       [1., 0.],\n",
              "       [0., 1.],\n",
              "       [0., 1.],\n",
              "       [0., 1.],\n",
              "       [1., 0.],\n",
              "       [0., 1.],\n",
              "       [0., 1.],\n",
              "       [1., 0.],\n",
              "       [1., 0.],\n",
              "       [1., 0.],\n",
              "       [0., 1.],\n",
              "       [0., 1.],\n",
              "       [1., 0.],\n",
              "       [0., 1.],\n",
              "       [1., 0.],\n",
              "       [1., 0.],\n",
              "       [0., 1.],\n",
              "       [0., 1.],\n",
              "       [1., 0.],\n",
              "       [1., 0.],\n",
              "       [0., 1.],\n",
              "       [1., 0.],\n",
              "       [0., 1.],\n",
              "       [0., 1.],\n",
              "       [1., 0.],\n",
              "       [1., 0.],\n",
              "       [0., 1.],\n",
              "       [0., 1.],\n",
              "       [0., 1.],\n",
              "       [1., 0.],\n",
              "       [1., 0.],\n",
              "       [1., 0.],\n",
              "       [1., 0.],\n",
              "       [0., 1.],\n",
              "       [1., 0.],\n",
              "       [1., 0.],\n",
              "       [1., 0.],\n",
              "       [0., 1.],\n",
              "       [0., 1.],\n",
              "       [1., 0.],\n",
              "       [1., 0.],\n",
              "       [0., 1.],\n",
              "       [0., 1.],\n",
              "       [1., 0.],\n",
              "       [1., 0.],\n",
              "       [0., 1.],\n",
              "       [0., 1.],\n",
              "       [0., 1.],\n",
              "       [1., 0.],\n",
              "       [1., 0.],\n",
              "       [1., 0.],\n",
              "       [0., 1.],\n",
              "       [0., 1.],\n",
              "       [0., 1.],\n",
              "       [1., 0.],\n",
              "       [1., 0.],\n",
              "       [1., 0.],\n",
              "       [1., 0.],\n",
              "       [0., 1.],\n",
              "       [1., 0.],\n",
              "       [0., 1.],\n",
              "       [0., 1.],\n",
              "       [0., 1.],\n",
              "       [1., 0.],\n",
              "       [0., 1.],\n",
              "       [1., 0.],\n",
              "       [0., 1.],\n",
              "       [1., 0.]], dtype=float32)"
            ]
          },
          "metadata": {},
          "execution_count": 10
        }
      ]
    },
    {
      "cell_type": "code",
      "source": [
        "model = cv2.ml.ANN_MLP_create()\n",
        "\n",
        "number_of_inputs = 2\n",
        "\n",
        "number_of_hidden_layers = 8\n",
        "\n",
        "number_of_outputs = 2\n",
        "\n",
        "model.setLayerSizes(numpy.array([number_of_inputs,number_of_hidden_layers,number_of_outputs]))\n",
        "\n",
        "alpha = 2.5\n",
        "\n",
        "beta = 1\n",
        "\n",
        "model.setActivationFunction(cv2.ml.ANN_MLP_SIGMOID_SYM, alpha, beta)\n",
        "\n",
        "model.setTrainMethod(cv2.ml.ANN_MLP_BACKPROP)\n",
        "\n",
        "termination_mode = cv2.TERM_CRITERIA_MAX_ITER + cv2.TERM_CRITERIA_EPS\n",
        "\n",
        "maximum_iterations = 200\n",
        "\n",
        "minimum_accuracy = 0.01\n",
        "\n",
        "model.setTermCriteria((termination_mode, maximum_iterations ,minimum_accuracy))\n",
        "\n",
        "model.train(X,cv2.ml.ROW_SAMPLE,y)"
      ],
      "metadata": {
        "colab": {
          "base_uri": "https://localhost:8080/"
        },
        "id": "rXofKjTCqzmM",
        "outputId": "1dd4f1ab-9156-43c5-8db8-8e02429c1097"
      },
      "execution_count": 12,
      "outputs": [
        {
          "output_type": "execute_result",
          "data": {
            "text/plain": [
              "True"
            ]
          },
          "metadata": {},
          "execution_count": 12
        }
      ]
    },
    {
      "cell_type": "code",
      "source": [
        "ret, prediction = model.predict(X)"
      ],
      "metadata": {
        "id": "lCZpXfxgxItP"
      },
      "execution_count": 14,
      "outputs": []
    },
    {
      "cell_type": "code",
      "source": [
        "prediction"
      ],
      "metadata": {
        "colab": {
          "base_uri": "https://localhost:8080/"
        },
        "id": "JOo_rJ00xUjG",
        "outputId": "4462f882-e45b-4467-8bb3-135c58cf32cf"
      },
      "execution_count": 15,
      "outputs": [
        {
          "output_type": "execute_result",
          "data": {
            "text/plain": [
              "array([[ 1.0160214e+00, -1.6990503e-02],\n",
              "       [ 1.0227072e+00, -2.3148017e-02],\n",
              "       [-2.7410332e-03,  9.5952195e-01],\n",
              "       [ 9.3378115e-01,  5.1031433e-02],\n",
              "       [ 7.8911924e-01,  1.7332414e-01],\n",
              "       [ 7.7714843e-01,  1.8526451e-01],\n",
              "       [ 1.0254002e+00, -2.4742346e-02],\n",
              "       [ 1.0135471e+00, -1.7102038e-02],\n",
              "       [ 1.1448317e-02,  8.5115504e-01],\n",
              "       [ 1.4382549e-02,  9.7566390e-01],\n",
              "       [ 6.6585871e-03,  9.4031411e-01],\n",
              "       [ 1.0256531e+00, -2.5593469e-02],\n",
              "       [ 8.0461937e-01,  1.6014341e-01],\n",
              "       [ 3.5507813e-01,  4.2654130e-01],\n",
              "       [ 1.0249093e+00, -2.4765871e-02],\n",
              "       [ 1.0255178e+00, -2.5398247e-02],\n",
              "       [ 1.0231586e+00, -2.3720684e-02],\n",
              "       [ 7.8507715e-01,  1.4417568e-01],\n",
              "       [ 1.0251139e+00, -2.4299303e-02],\n",
              "       [ 1.0025769e+00, -8.5468246e-03],\n",
              "       [ 1.0227066e+00, -2.2391379e-02],\n",
              "       [ 1.0252554e+00, -2.5152646e-02],\n",
              "       [ 1.0250814e+00, -2.4265613e-02],\n",
              "       [ 6.4431971e-01,  2.8853184e-01],\n",
              "       [ 1.0254909e+00, -2.5431868e-02],\n",
              "       [ 1.0261756e+00, -2.6012830e-02],\n",
              "       [ 4.1968903e-01,  3.1381512e-01],\n",
              "       [ 1.0252079e+00, -2.5119936e-02],\n",
              "       [ 9.3659538e-01,  2.2181492e-02],\n",
              "       [ 9.1847253e-01,  5.4246038e-02],\n",
              "       [ 1.0247009e+00, -2.4663299e-02],\n",
              "       [ 3.1731438e-02,  9.5526117e-01],\n",
              "       [ 9.0566224e-01,  5.1425796e-02],\n",
              "       [ 6.1098345e-02,  7.8391039e-01],\n",
              "       [ 1.0170326e+00, -1.9325240e-02],\n",
              "       [ 1.0261499e+00, -2.6077740e-02],\n",
              "       [ 1.0186156e+00, -1.9257970e-02],\n",
              "       [-1.5914056e-02,  9.8978156e-01],\n",
              "       [ 9.9479979e-01, -6.8334960e-03],\n",
              "       [ 1.0254649e+00, -2.5343388e-02],\n",
              "       [ 1.0057100e+00, -9.4948299e-03],\n",
              "       [ 5.4867184e-01,  3.4075037e-01],\n",
              "       [ 1.0259032e+00, -2.5544260e-02],\n",
              "       [ 1.0181444e+00, -1.8901298e-02],\n",
              "       [ 1.0217464e+00, -2.1882247e-02],\n",
              "       [ 1.0186849e+00, -2.0368129e-02],\n",
              "       [ 1.0249474e+00, -2.4836749e-02],\n",
              "       [ 1.0259515e+00, -2.5874462e-02],\n",
              "       [ 6.6823339e-01,  2.8045264e-01],\n",
              "       [ 6.3929778e-01,  2.9283980e-01],\n",
              "       [ 1.0178764e+00, -1.7594531e-02],\n",
              "       [ 1.0247003e+00, -2.4707111e-02],\n",
              "       [ 8.9775282e-01,  5.0075624e-02],\n",
              "       [ 1.0198001e+00, -2.0444460e-02],\n",
              "       [ 5.8039695e-01,  3.5668325e-01],\n",
              "       [ 8.8946587e-01,  8.8146351e-02],\n",
              "       [ 1.0251487e+00, -2.4818769e-02],\n",
              "       [ 1.0261940e+00, -2.6046038e-02],\n",
              "       [ 8.6610513e-03,  9.8247623e-01],\n",
              "       [ 1.0260381e+00, -2.5822291e-02],\n",
              "       [ 1.0252546e+00, -2.5154019e-02],\n",
              "       [ 1.0261729e+00, -2.6012136e-02],\n",
              "       [ 6.2590635e-01,  2.9642823e-01],\n",
              "       [ 1.0259484e+00, -2.5644442e-02],\n",
              "       [ 9.9806333e-01, -8.8509452e-03],\n",
              "       [-8.4931022e-03,  9.6299642e-01],\n",
              "       [ 7.6617068e-01,  1.6171972e-01],\n",
              "       [ 1.0233533e+00, -2.3402544e-02],\n",
              "       [ 1.0251025e+00, -2.4276776e-02],\n",
              "       [ 1.0194300e+00, -2.0728255e-02],\n",
              "       [ 6.0772467e-01,  3.2509282e-01],\n",
              "       [ 1.0253655e+00, -2.5261527e-02],\n",
              "       [ 1.0255042e+00, -2.5381638e-02],\n",
              "       [ 6.2219894e-01,  2.3795615e-01],\n",
              "       [ 6.8894315e-01,  2.6239011e-01],\n",
              "       [ 9.1772079e-01,  5.4738902e-02],\n",
              "       [ 1.0163169e+00, -1.7237671e-02],\n",
              "       [ 1.0051737e+00, -9.9363690e-03],\n",
              "       [ 7.7852919e-03,  9.8353875e-01],\n",
              "       [-4.6980153e-03,  9.6440643e-01],\n",
              "       [ 8.6890185e-01,  5.3048253e-02],\n",
              "       [ 9.3962187e-01,  4.6180300e-02],\n",
              "       [ 1.0250753e+00, -2.4695829e-02],\n",
              "       [ 1.0231498e+00, -2.2845540e-02],\n",
              "       [ 8.6226523e-01,  5.4723762e-02],\n",
              "       [ 1.0242646e+00, -2.4208514e-02],\n",
              "       [ 1.0216827e+00, -2.0733343e-02],\n",
              "       [ 1.0192891e+00, -2.1392915e-02],\n",
              "       [ 1.0254974e+00, -2.5378440e-02],\n",
              "       [ 2.3965323e-02,  8.3533716e-01],\n",
              "       [ 9.3132859e-01,  4.5679394e-02],\n",
              "       [ 1.0262057e+00, -2.6087407e-02],\n",
              "       [ 9.7554404e-01,  3.1029494e-03],\n",
              "       [ 6.6986191e-01,  2.5866419e-01],\n",
              "       [ 6.4604801e-01,  2.8264341e-01],\n",
              "       [ 1.0253973e+00, -2.5261778e-02],\n",
              "       [ 4.3694486e-04,  9.4520146e-01],\n",
              "       [ 1.0262185e+00, -2.6099853e-02],\n",
              "       [ 8.1353420e-01,  7.8845434e-02],\n",
              "       [ 1.0032796e+00, -8.8699767e-03]], dtype=float32)"
            ]
          },
          "metadata": {},
          "execution_count": 15
        }
      ]
    },
    {
      "cell_type": "code",
      "source": [
        "from sklearn.metrics import accuracy_score\n",
        "\n",
        "accuracy_score(prediction.round(),y)"
      ],
      "metadata": {
        "colab": {
          "base_uri": "https://localhost:8080/"
        },
        "id": "pPMoYMH0xWv7",
        "outputId": "e06a3cfa-bb63-47ab-d415-c74c860a075a"
      },
      "execution_count": 17,
      "outputs": [
        {
          "output_type": "execute_result",
          "data": {
            "text/plain": [
              "0.61"
            ]
          },
          "metadata": {},
          "execution_count": 17
        }
      ]
    },
    {
      "cell_type": "code",
      "source": [
        "from matplotlib import pyplot"
      ],
      "metadata": {
        "id": "VKIQ4cN0yAFN"
      },
      "execution_count": 18,
      "outputs": []
    },
    {
      "cell_type": "code",
      "source": [
        "def scatterplot(model,X,y):\n",
        "  pyplot.scatter(X[:,0], X[:,1], c=y)\n",
        "\n",
        "def visualize_results(model,X,y):\n",
        "\n",
        "  \n",
        "\n",
        "  h = 0.02\n",
        "  min_x, max_x = X[:,0].min() -1, X[:,0].max() + 1\n",
        "  min_y, max_y = X[:,1].min() -1, X[:,1].max() + 1\n",
        "\n",
        "  new_x,new_y = numpy.meshgrid(numpy.arange(min_x,max_x,h),numpy.arange(min_y,max_y,h))\n",
        "  \n",
        "  x_hypothesis = numpy.c_[new_x.ravel().astype(numpy.float32),new_y.ravel().astype(numpy.float32)]\n",
        "\n",
        "  ret, z = model.predict(x_hypothesis)\n",
        "\n",
        "  z = numpy.argmax(z, axis = 1) \n",
        "  z = z.reshape(new_x.shape)\n",
        "\n",
        "  pyplot.contourf(new_x,new_y, z)\n"
      ],
      "metadata": {
        "id": "sQjKm6PCx34n"
      },
      "execution_count": 31,
      "outputs": []
    },
    {
      "cell_type": "code",
      "source": [
        "scatterplot(model,X,y_data)"
      ],
      "metadata": {
        "colab": {
          "base_uri": "https://localhost:8080/",
          "height": 320
        },
        "id": "RMzHwGJj1zJ9",
        "outputId": "4f28f1ef-31fb-42d3-bd84-236324efbd75"
      },
      "execution_count": 30,
      "outputs": [
        {
          "output_type": "display_data",
          "data": {
            "text/plain": [
              "<Figure size 720x360 with 1 Axes>"
            ],
            "image/png": "[encoded data removed]"
          },
          "metadata": {
            "needs_background": "light"
          }
        }
      ]
    },
    {
      "cell_type": "code",
      "source": [
        "pyplot.rcParams[\"figure.figsize\"] = (10,5)\n",
        "visualize_results(model,X,y_data)"
      ],
      "metadata": {
        "colab": {
          "base_uri": "https://localhost:8080/",
          "height": 320
        },
        "id": "3F3EoSfmyWVX",
        "outputId": "506675c4-a07c-491f-99a2-76e3fe3f02c6"
      },
      "execution_count": 32,
      "outputs": [
        {
          "output_type": "display_data",
          "data": {
            "text/plain": [
              "<Figure size 720x360 with 1 Axes>"
            ],
            "image/png": "[encoded data removed]"
          },
          "metadata": {
            "needs_background": "light"
          }
        }
      ]
    }
  ]
}